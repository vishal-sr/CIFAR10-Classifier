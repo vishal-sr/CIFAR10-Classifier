{
  "nbformat": 4,
  "nbformat_minor": 0,
  "metadata": {
    "colab": {
      "name": "CIFAR10-PyTorch.ipynb",
      "provenance": [],
      "collapsed_sections": []
    },
    "kernelspec": {
      "name": "python3",
      "display_name": "Python 3"
    },
    "accelerator": "GPU",
    "widgets": {
      "application/vnd.jupyter.widget-state+json": {
        "6e0fb345ddff4e59ae3cff8cf713c75d": {
          "model_module": "@jupyter-widgets/controls",
          "model_name": "HBoxModel",
          "state": {
            "_view_name": "HBoxView",
            "_dom_classes": [],
            "_model_name": "HBoxModel",
            "_view_module": "@jupyter-widgets/controls",
            "_model_module_version": "1.5.0",
            "_view_count": null,
            "_view_module_version": "1.5.0",
            "box_style": "",
            "layout": "IPY_MODEL_bec870e98f604f4ab04f5f86b799c65b",
            "_model_module": "@jupyter-widgets/controls",
            "children": [
              "IPY_MODEL_3dafda3ba44e4826bdfef798ae332eff",
              "IPY_MODEL_eed5cde2d7114e43a2379937ce4b62a0"
            ]
          }
        },
        "bec870e98f604f4ab04f5f86b799c65b": {
          "model_module": "@jupyter-widgets/base",
          "model_name": "LayoutModel",
          "state": {
            "_view_name": "LayoutView",
            "grid_template_rows": null,
            "right": null,
            "justify_content": null,
            "_view_module": "@jupyter-widgets/base",
            "overflow": null,
            "_model_module_version": "1.2.0",
            "_view_count": null,
            "flex_flow": null,
            "width": null,
            "min_width": null,
            "border": null,
            "align_items": null,
            "bottom": null,
            "_model_module": "@jupyter-widgets/base",
            "top": null,
            "grid_column": null,
            "overflow_y": null,
            "overflow_x": null,
            "grid_auto_flow": null,
            "grid_area": null,
            "grid_template_columns": null,
            "flex": null,
            "_model_name": "LayoutModel",
            "justify_items": null,
            "grid_row": null,
            "max_height": null,
            "align_content": null,
            "visibility": null,
            "align_self": null,
            "height": null,
            "min_height": null,
            "padding": null,
            "grid_auto_rows": null,
            "grid_gap": null,
            "max_width": null,
            "order": null,
            "_view_module_version": "1.2.0",
            "grid_template_areas": null,
            "object_position": null,
            "object_fit": null,
            "grid_auto_columns": null,
            "margin": null,
            "display": null,
            "left": null
          }
        },
        "3dafda3ba44e4826bdfef798ae332eff": {
          "model_module": "@jupyter-widgets/controls",
          "model_name": "FloatProgressModel",
          "state": {
            "_view_name": "ProgressView",
            "style": "IPY_MODEL_d7a6e727ec664a0f9ec494b4a9620707",
            "_dom_classes": [],
            "description": "",
            "_model_name": "FloatProgressModel",
            "bar_style": "info",
            "max": 1,
            "_view_module": "@jupyter-widgets/controls",
            "_model_module_version": "1.5.0",
            "value": 1,
            "_view_count": null,
            "_view_module_version": "1.5.0",
            "orientation": "horizontal",
            "min": 0,
            "description_tooltip": null,
            "_model_module": "@jupyter-widgets/controls",
            "layout": "IPY_MODEL_75953e5a22864d2d8aa879d63d4f3198"
          }
        },
        "eed5cde2d7114e43a2379937ce4b62a0": {
          "model_module": "@jupyter-widgets/controls",
          "model_name": "HTMLModel",
          "state": {
            "_view_name": "HTMLView",
            "style": "IPY_MODEL_30c0bc857e194cd3b677da5579521de9",
            "_dom_classes": [],
            "description": "",
            "_model_name": "HTMLModel",
            "placeholder": "​",
            "_view_module": "@jupyter-widgets/controls",
            "_model_module_version": "1.5.0",
            "value": " 170500096/? [00:20&lt;00:00, 94470302.20it/s]",
            "_view_count": null,
            "_view_module_version": "1.5.0",
            "description_tooltip": null,
            "_model_module": "@jupyter-widgets/controls",
            "layout": "IPY_MODEL_1f3acd066ebd47fea98e4d702dcc8f2f"
          }
        },
        "d7a6e727ec664a0f9ec494b4a9620707": {
          "model_module": "@jupyter-widgets/controls",
          "model_name": "ProgressStyleModel",
          "state": {
            "_view_name": "StyleView",
            "_model_name": "ProgressStyleModel",
            "description_width": "initial",
            "_view_module": "@jupyter-widgets/base",
            "_model_module_version": "1.5.0",
            "_view_count": null,
            "_view_module_version": "1.2.0",
            "bar_color": null,
            "_model_module": "@jupyter-widgets/controls"
          }
        },
        "75953e5a22864d2d8aa879d63d4f3198": {
          "model_module": "@jupyter-widgets/base",
          "model_name": "LayoutModel",
          "state": {
            "_view_name": "LayoutView",
            "grid_template_rows": null,
            "right": null,
            "justify_content": null,
            "_view_module": "@jupyter-widgets/base",
            "overflow": null,
            "_model_module_version": "1.2.0",
            "_view_count": null,
            "flex_flow": null,
            "width": null,
            "min_width": null,
            "border": null,
            "align_items": null,
            "bottom": null,
            "_model_module": "@jupyter-widgets/base",
            "top": null,
            "grid_column": null,
            "overflow_y": null,
            "overflow_x": null,
            "grid_auto_flow": null,
            "grid_area": null,
            "grid_template_columns": null,
            "flex": null,
            "_model_name": "LayoutModel",
            "justify_items": null,
            "grid_row": null,
            "max_height": null,
            "align_content": null,
            "visibility": null,
            "align_self": null,
            "height": null,
            "min_height": null,
            "padding": null,
            "grid_auto_rows": null,
            "grid_gap": null,
            "max_width": null,
            "order": null,
            "_view_module_version": "1.2.0",
            "grid_template_areas": null,
            "object_position": null,
            "object_fit": null,
            "grid_auto_columns": null,
            "margin": null,
            "display": null,
            "left": null
          }
        },
        "30c0bc857e194cd3b677da5579521de9": {
          "model_module": "@jupyter-widgets/controls",
          "model_name": "DescriptionStyleModel",
          "state": {
            "_view_name": "StyleView",
            "_model_name": "DescriptionStyleModel",
            "description_width": "",
            "_view_module": "@jupyter-widgets/base",
            "_model_module_version": "1.5.0",
            "_view_count": null,
            "_view_module_version": "1.2.0",
            "_model_module": "@jupyter-widgets/controls"
          }
        },
        "1f3acd066ebd47fea98e4d702dcc8f2f": {
          "model_module": "@jupyter-widgets/base",
          "model_name": "LayoutModel",
          "state": {
            "_view_name": "LayoutView",
            "grid_template_rows": null,
            "right": null,
            "justify_content": null,
            "_view_module": "@jupyter-widgets/base",
            "overflow": null,
            "_model_module_version": "1.2.0",
            "_view_count": null,
            "flex_flow": null,
            "width": null,
            "min_width": null,
            "border": null,
            "align_items": null,
            "bottom": null,
            "_model_module": "@jupyter-widgets/base",
            "top": null,
            "grid_column": null,
            "overflow_y": null,
            "overflow_x": null,
            "grid_auto_flow": null,
            "grid_area": null,
            "grid_template_columns": null,
            "flex": null,
            "_model_name": "LayoutModel",
            "justify_items": null,
            "grid_row": null,
            "max_height": null,
            "align_content": null,
            "visibility": null,
            "align_self": null,
            "height": null,
            "min_height": null,
            "padding": null,
            "grid_auto_rows": null,
            "grid_gap": null,
            "max_width": null,
            "order": null,
            "_view_module_version": "1.2.0",
            "grid_template_areas": null,
            "object_position": null,
            "object_fit": null,
            "grid_auto_columns": null,
            "margin": null,
            "display": null,
            "left": null
          }
        }
      }
    }
  },
  "cells": [
    {
      "cell_type": "markdown",
      "metadata": {
        "id": "J1dgTq0nHzFW"
      },
      "source": [
        "# Image classifier for CIFAR10 dataset using PyTorch"
      ]
    },
    {
      "cell_type": "markdown",
      "metadata": {
        "id": "Lo2FMiUsIBA8"
      },
      "source": [
        "## Load dependencies"
      ]
    },
    {
      "cell_type": "code",
      "metadata": {
        "id": "seK5Fi4p8lsk"
      },
      "source": [
        "import numpy as np\r\n",
        "import pandas as pd\r\n",
        "import matplotlib.pyplot as plt\r\n",
        "import seaborn as sns\r\n",
        "\r\n",
        "import torch\r\n",
        "import torch.nn as nn\r\n",
        "import torch.nn.functional as F\r\n",
        "import torchvision.datasets as dataset\r\n",
        "import torchvision.transforms as transforms\r\n",
        "import torch.optim as optim\r\n",
        "\r\n",
        "import time"
      ],
      "execution_count": 31,
      "outputs": []
    },
    {
      "cell_type": "markdown",
      "metadata": {
        "id": "YjdIrcufIFO1"
      },
      "source": [
        "## Load dataset"
      ]
    },
    {
      "cell_type": "code",
      "metadata": {
        "colab": {
          "base_uri": "https://localhost:8080/",
          "height": 101,
          "referenced_widgets": [
            "6e0fb345ddff4e59ae3cff8cf713c75d",
            "bec870e98f604f4ab04f5f86b799c65b",
            "3dafda3ba44e4826bdfef798ae332eff",
            "eed5cde2d7114e43a2379937ce4b62a0",
            "d7a6e727ec664a0f9ec494b4a9620707",
            "75953e5a22864d2d8aa879d63d4f3198",
            "30c0bc857e194cd3b677da5579521de9",
            "1f3acd066ebd47fea98e4d702dcc8f2f"
          ]
        },
        "id": "YUOhYgaJ_tKX",
        "outputId": "3d86c5d7-2b38-4089-ae97-940576c85275"
      },
      "source": [
        "transform = transforms.ToTensor()\r\n",
        "train_dataset = dataset.CIFAR10('.', train = True, download = True,\r\n",
        "                                transform = transform)\r\n",
        "test_dataset = dataset.CIFAR10('.', train = False, download = True,\r\n",
        "                               transform = transform)"
      ],
      "execution_count": 2,
      "outputs": [
        {
          "output_type": "stream",
          "text": [
            "Downloading https://www.cs.toronto.edu/~kriz/cifar-10-python.tar.gz to ./cifar-10-python.tar.gz\n"
          ],
          "name": "stdout"
        },
        {
          "output_type": "display_data",
          "data": {
            "application/vnd.jupyter.widget-view+json": {
              "model_id": "6e0fb345ddff4e59ae3cff8cf713c75d",
              "version_minor": 0,
              "version_major": 2
            },
            "text/plain": [
              "HBox(children=(FloatProgress(value=1.0, bar_style='info', max=1.0), HTML(value='')))"
            ]
          },
          "metadata": {
            "tags": []
          }
        },
        {
          "output_type": "stream",
          "text": [
            "Extracting ./cifar-10-python.tar.gz to .\n",
            "Files already downloaded and verified\n"
          ],
          "name": "stdout"
        }
      ]
    },
    {
      "cell_type": "markdown",
      "metadata": {
        "id": "lTIu3JmxIMD7"
      },
      "source": [
        "## Batching up the data"
      ]
    },
    {
      "cell_type": "code",
      "metadata": {
        "id": "2X31PVO7DKON"
      },
      "source": [
        "train = torch.utils.data.DataLoader(dataset=train_dataset, batch_size=128, shuffle=True)\r\n",
        "test = torch.utils.data.DataLoader(dataset=test_dataset, batch_size=128, shuffle=True)"
      ],
      "execution_count": 3,
      "outputs": []
    },
    {
      "cell_type": "markdown",
      "metadata": {
        "id": "0OFj6f2WIYcb"
      },
      "source": [
        "## Build model"
      ]
    },
    {
      "cell_type": "code",
      "metadata": {
        "id": "11MFRwAID0PA"
      },
      "source": [
        "class Net(nn.Module):\r\n",
        "  def __init__(self):\r\n",
        "    super(Net, self).__init__()\r\n",
        "\r\n",
        "    self.conv1 = nn.Conv2d(in_channels=3, out_channels=32, kernel_size=3, \r\n",
        "                           stride=1, padding=1)\r\n",
        "    self.bnorm1 = nn.BatchNorm2d(num_features=32)\r\n",
        "    self.conv2 = nn.Conv2d(in_channels=32, out_channels=32, kernel_size=3, \r\n",
        "                           stride=1, padding=1)\r\n",
        "    self.bnorm2 = nn.BatchNorm2d(num_features=32)    \r\n",
        "    self.maxpool1 = nn.MaxPool2d(kernel_size=2, stride=2)\r\n",
        "    self.dropout1 = nn.Dropout2d(p=0.2)\r\n",
        "\r\n",
        "    self.conv3 = nn.Conv2d(in_channels=32, out_channels=64, kernel_size=3, \r\n",
        "                           stride=1, padding=1)\r\n",
        "    self.bnorm3 = nn.BatchNorm2d(num_features=64)\r\n",
        "    self.conv4 = nn.Conv2d(in_channels=64, out_channels=64, kernel_size=3, \r\n",
        "                           stride=1, padding=1)\r\n",
        "    self.bnorm4 = nn.BatchNorm2d(num_features=64)    \r\n",
        "    self.maxpool2 = nn.MaxPool2d(kernel_size=2, stride=2)\r\n",
        "    self.dropout2 = nn.Dropout2d(p=0.3)\r\n",
        "\r\n",
        "    self.conv5 = nn.Conv2d(in_channels=64, out_channels=128, kernel_size=3, \r\n",
        "                           stride=1, padding=1)\r\n",
        "    self.bnorm5 = nn.BatchNorm2d(num_features=128)\r\n",
        "    self.conv6 = nn.Conv2d(in_channels=128, out_channels=128, kernel_size=3, \r\n",
        "                           stride=1, padding=1)\r\n",
        "    self.bnorm6 = nn.BatchNorm2d(num_features=128)    \r\n",
        "    self.maxpool3 = nn.MaxPool2d(kernel_size=2, stride=2)\r\n",
        "    self.dropout3 = nn.Dropout2d(p=0.4)\r\n",
        "\r\n",
        "    self.fc1 = nn.Linear(in_features=4 * 4 * 128, out_features=128)\r\n",
        "    self.bnorm7 = nn.BatchNorm1d(num_features=128)\r\n",
        "    self.dropout4 = nn.Dropout2d(p=0.5)\r\n",
        "    self.fc2 = nn.Linear(in_features = 128, out_features = 10)\r\n",
        "\r\n",
        "  def forward(self, X):\r\n",
        "\r\n",
        "    X = F.relu(self.conv1(X))\r\n",
        "    X = self.bnorm1(X)\r\n",
        "    X = F.relu(self.conv2(X))\r\n",
        "    X = self.bnorm2(X)\r\n",
        "    X = self.maxpool1(X)\r\n",
        "    X = self.dropout1(X)\r\n",
        "\r\n",
        "    X = F.relu(self.conv3(X))\r\n",
        "    X = self.bnorm3(X)\r\n",
        "    X = F.relu(self.conv4(X))\r\n",
        "    X = self.bnorm4(X)\r\n",
        "    X = self.maxpool2(X)\r\n",
        "    X = self.dropout2(X)\r\n",
        "\r\n",
        "    X = F.relu(self.conv5(X))\r\n",
        "    X = self.bnorm5(X)\r\n",
        "    X = F.relu(self.conv6(X))\r\n",
        "    X = self.bnorm6(X)\r\n",
        "    X = self.maxpool3(X)\r\n",
        "    X = self.dropout3(X)\r\n",
        "\r\n",
        "    X = X.view(-1, 4 * 4* 128)\r\n",
        "\r\n",
        "    X = F.relu(self.fc1(X))\r\n",
        "    X = self.bnorm7(X)\r\n",
        "    X = self.dropout4(X)\r\n",
        "\r\n",
        "    X = self.fc2(X)\r\n",
        "    return X"
      ],
      "execution_count": 4,
      "outputs": []
    },
    {
      "cell_type": "markdown",
      "metadata": {
        "id": "JI3FytwTIgRT"
      },
      "source": [
        "## Creating instance for our model"
      ]
    },
    {
      "cell_type": "code",
      "metadata": {
        "colab": {
          "base_uri": "https://localhost:8080/"
        },
        "id": "Kx0qqzE2fElP",
        "outputId": "cbef018d-5277-4bc3-8ebe-e544772f842a"
      },
      "source": [
        "net = Net()\r\n",
        "net"
      ],
      "execution_count": 5,
      "outputs": [
        {
          "output_type": "execute_result",
          "data": {
            "text/plain": [
              "Net(\n",
              "  (conv1): Conv2d(3, 32, kernel_size=(3, 3), stride=(1, 1), padding=(1, 1))\n",
              "  (bnorm1): BatchNorm2d(32, eps=1e-05, momentum=0.1, affine=True, track_running_stats=True)\n",
              "  (conv2): Conv2d(32, 32, kernel_size=(3, 3), stride=(1, 1), padding=(1, 1))\n",
              "  (bnorm2): BatchNorm2d(32, eps=1e-05, momentum=0.1, affine=True, track_running_stats=True)\n",
              "  (maxpool1): MaxPool2d(kernel_size=2, stride=2, padding=0, dilation=1, ceil_mode=False)\n",
              "  (dropout1): Dropout2d(p=0.2, inplace=False)\n",
              "  (conv3): Conv2d(32, 64, kernel_size=(3, 3), stride=(1, 1), padding=(1, 1))\n",
              "  (bnorm3): BatchNorm2d(64, eps=1e-05, momentum=0.1, affine=True, track_running_stats=True)\n",
              "  (conv4): Conv2d(64, 64, kernel_size=(3, 3), stride=(1, 1), padding=(1, 1))\n",
              "  (bnorm4): BatchNorm2d(64, eps=1e-05, momentum=0.1, affine=True, track_running_stats=True)\n",
              "  (maxpool2): MaxPool2d(kernel_size=2, stride=2, padding=0, dilation=1, ceil_mode=False)\n",
              "  (dropout2): Dropout2d(p=0.3, inplace=False)\n",
              "  (conv5): Conv2d(64, 128, kernel_size=(3, 3), stride=(1, 1), padding=(1, 1))\n",
              "  (bnorm5): BatchNorm2d(128, eps=1e-05, momentum=0.1, affine=True, track_running_stats=True)\n",
              "  (conv6): Conv2d(128, 128, kernel_size=(3, 3), stride=(1, 1), padding=(1, 1))\n",
              "  (bnorm6): BatchNorm2d(128, eps=1e-05, momentum=0.1, affine=True, track_running_stats=True)\n",
              "  (maxpool3): MaxPool2d(kernel_size=2, stride=2, padding=0, dilation=1, ceil_mode=False)\n",
              "  (dropout3): Dropout2d(p=0.4, inplace=False)\n",
              "  (fc1): Linear(in_features=2048, out_features=128, bias=True)\n",
              "  (bnorm7): BatchNorm1d(128, eps=1e-05, momentum=0.1, affine=True, track_running_stats=True)\n",
              "  (dropout4): Dropout2d(p=0.5, inplace=False)\n",
              "  (fc2): Linear(in_features=128, out_features=10, bias=True)\n",
              ")"
            ]
          },
          "metadata": {
            "tags": []
          },
          "execution_count": 5
        }
      ]
    },
    {
      "cell_type": "markdown",
      "metadata": {
        "id": "FB9fQ0RqIpP4"
      },
      "source": [
        "## Checking for GPU"
      ]
    },
    {
      "cell_type": "code",
      "metadata": {
        "colab": {
          "base_uri": "https://localhost:8080/"
        },
        "id": "O2U_2VOEfUZq",
        "outputId": "fbc40fc9-253b-4f7b-ee72-e1d732fa1c75"
      },
      "source": [
        "if torch.cuda.is_available():\r\n",
        "  device = torch.device(\"cuda\")\r\n",
        "else:\r\n",
        "  device = torch.device(\"cpu\")\r\n",
        "device"
      ],
      "execution_count": 6,
      "outputs": [
        {
          "output_type": "execute_result",
          "data": {
            "text/plain": [
              "device(type='cuda')"
            ]
          },
          "metadata": {
            "tags": []
          },
          "execution_count": 6
        }
      ]
    },
    {
      "cell_type": "markdown",
      "metadata": {
        "id": "W6_Aa52tItgQ"
      },
      "source": [
        "## Loading our model on GPU"
      ]
    },
    {
      "cell_type": "code",
      "metadata": {
        "colab": {
          "base_uri": "https://localhost:8080/"
        },
        "id": "7IPg7ni4foSr",
        "outputId": "20ca7a8c-525c-4754-8e33-6c459addd1af"
      },
      "source": [
        "net.to(device)"
      ],
      "execution_count": 7,
      "outputs": [
        {
          "output_type": "execute_result",
          "data": {
            "text/plain": [
              "Net(\n",
              "  (conv1): Conv2d(3, 32, kernel_size=(3, 3), stride=(1, 1), padding=(1, 1))\n",
              "  (bnorm1): BatchNorm2d(32, eps=1e-05, momentum=0.1, affine=True, track_running_stats=True)\n",
              "  (conv2): Conv2d(32, 32, kernel_size=(3, 3), stride=(1, 1), padding=(1, 1))\n",
              "  (bnorm2): BatchNorm2d(32, eps=1e-05, momentum=0.1, affine=True, track_running_stats=True)\n",
              "  (maxpool1): MaxPool2d(kernel_size=2, stride=2, padding=0, dilation=1, ceil_mode=False)\n",
              "  (dropout1): Dropout2d(p=0.2, inplace=False)\n",
              "  (conv3): Conv2d(32, 64, kernel_size=(3, 3), stride=(1, 1), padding=(1, 1))\n",
              "  (bnorm3): BatchNorm2d(64, eps=1e-05, momentum=0.1, affine=True, track_running_stats=True)\n",
              "  (conv4): Conv2d(64, 64, kernel_size=(3, 3), stride=(1, 1), padding=(1, 1))\n",
              "  (bnorm4): BatchNorm2d(64, eps=1e-05, momentum=0.1, affine=True, track_running_stats=True)\n",
              "  (maxpool2): MaxPool2d(kernel_size=2, stride=2, padding=0, dilation=1, ceil_mode=False)\n",
              "  (dropout2): Dropout2d(p=0.3, inplace=False)\n",
              "  (conv5): Conv2d(64, 128, kernel_size=(3, 3), stride=(1, 1), padding=(1, 1))\n",
              "  (bnorm5): BatchNorm2d(128, eps=1e-05, momentum=0.1, affine=True, track_running_stats=True)\n",
              "  (conv6): Conv2d(128, 128, kernel_size=(3, 3), stride=(1, 1), padding=(1, 1))\n",
              "  (bnorm6): BatchNorm2d(128, eps=1e-05, momentum=0.1, affine=True, track_running_stats=True)\n",
              "  (maxpool3): MaxPool2d(kernel_size=2, stride=2, padding=0, dilation=1, ceil_mode=False)\n",
              "  (dropout3): Dropout2d(p=0.4, inplace=False)\n",
              "  (fc1): Linear(in_features=2048, out_features=128, bias=True)\n",
              "  (bnorm7): BatchNorm1d(128, eps=1e-05, momentum=0.1, affine=True, track_running_stats=True)\n",
              "  (dropout4): Dropout2d(p=0.5, inplace=False)\n",
              "  (fc2): Linear(in_features=128, out_features=10, bias=True)\n",
              ")"
            ]
          },
          "metadata": {
            "tags": []
          },
          "execution_count": 7
        }
      ]
    },
    {
      "cell_type": "markdown",
      "metadata": {
        "id": "owx1cM7iI11J"
      },
      "source": [
        "## Initializing loss function and optimizer for model training"
      ]
    },
    {
      "cell_type": "code",
      "metadata": {
        "id": "k-W2ZWLPf8bX"
      },
      "source": [
        "criterion = nn.CrossEntropyLoss()\r\n",
        "optimizer = torch.optim.Adam(net.parameters(), lr = 0.01)"
      ],
      "execution_count": 8,
      "outputs": []
    },
    {
      "cell_type": "markdown",
      "metadata": {
        "id": "lUk4yO0bI8yQ"
      },
      "source": [
        "## Functions to calculate accuracy and loss"
      ]
    },
    {
      "cell_type": "code",
      "metadata": {
        "id": "aJcV88zNDdNs"
      },
      "source": [
        "def acc(data):\r\n",
        "  correct = 0\r\n",
        "  total = 0\r\n",
        "\r\n",
        "  with torch.no_grad():\r\n",
        "    for X, y in data:\r\n",
        "      X, y = X.to(device), y.to(device)\r\n",
        "      output = net(X)\r\n",
        "          \r\n",
        "      for idx, i in enumerate(output):\r\n",
        "        if torch.argmax(i) == y[idx]:\r\n",
        "          correct += 1\r\n",
        "        total += 1\r\n",
        "  return correct/total\r\n",
        "\r\n",
        "def ls(): #loss\r\n",
        "  with torch.no_grad():\r\n",
        "    v_loss = []\r\n",
        "    for X, y in test:\r\n",
        "      X, y = X.to(device), y.to(device)\r\n",
        "      output = net(X)\r\n",
        "\r\n",
        "      loss = criterion(output, y)\r\n",
        "      v_loss.append(loss.item())\r\n",
        "    v_loss = np.mean(v_loss)\r\n",
        "  return v_loss  "
      ],
      "execution_count": 9,
      "outputs": []
    },
    {
      "cell_type": "markdown",
      "metadata": {
        "id": "pGwkjFB1JCZd"
      },
      "source": [
        "## Model training"
      ]
    },
    {
      "cell_type": "code",
      "metadata": {
        "colab": {
          "base_uri": "https://localhost:8080/"
        },
        "id": "PlVou1RNghd1",
        "outputId": "04a12150-54d4-41b7-d0d2-1f840c559ca9"
      },
      "source": [
        "epochs = 30\r\n",
        "history = {\r\n",
        "    'loss': [],\r\n",
        "    'accuracy': [],\r\n",
        "    'val_loss': [],\r\n",
        "    'val_accuracy': [],\r\n",
        "}\r\n",
        "\r\n",
        "for epoch in range(epochs):\r\n",
        "  train_loss = []\r\n",
        "  stime = time.time()\r\n",
        "  for X_train, y_train in train:\r\n",
        "    X_train, y_train = X_train.to(device), y_train.to(device)\r\n",
        "    optimizer.zero_grad()\r\n",
        "\r\n",
        "    output = net(X_train)\r\n",
        "\r\n",
        "    loss = criterion(output, y_train)\r\n",
        "\r\n",
        "    loss.backward()\r\n",
        "    optimizer.step()\r\n",
        "    train_loss.append(loss.item())\r\n",
        "  etime = time.time()\r\n",
        "  train_loss = np.mean(train_loss)\r\n",
        "  etime = etime-stime\r\n",
        "  net.eval()\r\n",
        "  history['loss'].append(train_loss)\r\n",
        "  history['accuracy'].append(acc(train))\r\n",
        "  history['val_loss'].append(ls())\r\n",
        "  history['val_accuracy'].append(acc(test))\r\n",
        "  if epoch<9:\r\n",
        "    print(f\"Epoch: 0{epoch + 1} | Time: {etime:.3f}s | Loss: {train_loss:.10f} | Accuracy: {acc(train):.3f} | Val_loss: {ls():.10f} | Val_accuracy: {acc(test):.3f}\")\r\n",
        "  else:\r\n",
        "    print(f\"Epoch: {epoch + 1} | Time: {etime:.3f}s | Loss: {train_loss:.10f} | Accuracy: {acc(train):.3f} | Val_loss: {ls():.10f} | Val_accuracy: {acc(test):.3f}\")\r\n",
        "  net.train()"
      ],
      "execution_count": 10,
      "outputs": [
        {
          "output_type": "stream",
          "text": [
            "Epoch: 01 | Time: 12.582s | Loss: 1.6050926310 | Accuracy: 0.533 | Val_loss: 1.2864295818 | Val_accuracy: 0.531\n",
            "Epoch: 02 | Time: 12.214s | Loss: 1.1824299009 | Accuracy: 0.688 | Val_loss: 0.8997862384 | Val_accuracy: 0.679\n",
            "Epoch: 03 | Time: 12.160s | Loss: 0.9917169517 | Accuracy: 0.730 | Val_loss: 0.8305349765 | Val_accuracy: 0.710\n",
            "Epoch: 04 | Time: 12.076s | Loss: 0.8921834990 | Accuracy: 0.778 | Val_loss: 0.7075353544 | Val_accuracy: 0.753\n",
            "Epoch: 05 | Time: 12.519s | Loss: 0.8223085314 | Accuracy: 0.785 | Val_loss: 0.7065980683 | Val_accuracy: 0.755\n",
            "Epoch: 06 | Time: 12.543s | Loss: 0.7719033403 | Accuracy: 0.811 | Val_loss: 0.6444714628 | Val_accuracy: 0.777\n",
            "Epoch: 07 | Time: 12.266s | Loss: 0.7349793544 | Accuracy: 0.828 | Val_loss: 0.6166924449 | Val_accuracy: 0.787\n",
            "Epoch: 08 | Time: 12.239s | Loss: 0.6959985251 | Accuracy: 0.831 | Val_loss: 0.6218418886 | Val_accuracy: 0.785\n",
            "Epoch: 09 | Time: 12.214s | Loss: 0.6670665347 | Accuracy: 0.824 | Val_loss: 0.6365877579 | Val_accuracy: 0.783\n",
            "Epoch: 10 | Time: 12.140s | Loss: 0.6401456089 | Accuracy: 0.850 | Val_loss: 0.5879634453 | Val_accuracy: 0.802\n",
            "Epoch: 11 | Time: 12.109s | Loss: 0.6147853782 | Accuracy: 0.869 | Val_loss: 0.5451255437 | Val_accuracy: 0.814\n",
            "Epoch: 12 | Time: 12.044s | Loss: 0.5902552879 | Accuracy: 0.867 | Val_loss: 0.5686645059 | Val_accuracy: 0.807\n",
            "Epoch: 13 | Time: 12.091s | Loss: 0.5805766223 | Accuracy: 0.879 | Val_loss: 0.5425364975 | Val_accuracy: 0.813\n",
            "Epoch: 14 | Time: 11.984s | Loss: 0.5613874570 | Accuracy: 0.891 | Val_loss: 0.5151555536 | Val_accuracy: 0.825\n",
            "Epoch: 15 | Time: 12.023s | Loss: 0.5469370433 | Accuracy: 0.883 | Val_loss: 0.5600818977 | Val_accuracy: 0.812\n",
            "Epoch: 16 | Time: 12.013s | Loss: 0.5380874759 | Accuracy: 0.875 | Val_loss: 0.5881405220 | Val_accuracy: 0.802\n",
            "Epoch: 17 | Time: 12.009s | Loss: 0.5174453258 | Accuracy: 0.892 | Val_loss: 0.5410482163 | Val_accuracy: 0.816\n",
            "Epoch: 18 | Time: 12.006s | Loss: 0.5010349279 | Accuracy: 0.908 | Val_loss: 0.5061032470 | Val_accuracy: 0.831\n",
            "Epoch: 19 | Time: 11.985s | Loss: 0.4914790284 | Accuracy: 0.914 | Val_loss: 0.4992242919 | Val_accuracy: 0.834\n",
            "Epoch: 20 | Time: 11.999s | Loss: 0.4811723576 | Accuracy: 0.922 | Val_loss: 0.5014942315 | Val_accuracy: 0.837\n",
            "Epoch: 21 | Time: 12.438s | Loss: 0.4700509537 | Accuracy: 0.923 | Val_loss: 0.5054647274 | Val_accuracy: 0.836\n",
            "Epoch: 22 | Time: 12.157s | Loss: 0.4587183046 | Accuracy: 0.922 | Val_loss: 0.4980621587 | Val_accuracy: 0.837\n",
            "Epoch: 23 | Time: 12.278s | Loss: 0.4518750997 | Accuracy: 0.930 | Val_loss: 0.4893476190 | Val_accuracy: 0.839\n",
            "Epoch: 24 | Time: 12.319s | Loss: 0.4368739419 | Accuracy: 0.930 | Val_loss: 0.4890834080 | Val_accuracy: 0.836\n",
            "Epoch: 25 | Time: 12.235s | Loss: 0.4352997378 | Accuracy: 0.938 | Val_loss: 0.4917193783 | Val_accuracy: 0.842\n",
            "Epoch: 26 | Time: 12.115s | Loss: 0.4230248873 | Accuracy: 0.939 | Val_loss: 0.4866991909 | Val_accuracy: 0.844\n",
            "Epoch: 27 | Time: 12.102s | Loss: 0.4164957754 | Accuracy: 0.943 | Val_loss: 0.4826491864 | Val_accuracy: 0.847\n",
            "Epoch: 28 | Time: 12.093s | Loss: 0.4088726184 | Accuracy: 0.951 | Val_loss: 0.4770043887 | Val_accuracy: 0.848\n",
            "Epoch: 29 | Time: 12.141s | Loss: 0.4005853560 | Accuracy: 0.950 | Val_loss: 0.4739755556 | Val_accuracy: 0.843\n",
            "Epoch: 30 | Time: 12.236s | Loss: 0.3932062857 | Accuracy: 0.945 | Val_loss: 0.4968780351 | Val_accuracy: 0.842\n"
          ],
          "name": "stdout"
        }
      ]
    },
    {
      "cell_type": "markdown",
      "metadata": {
        "id": "O1P3aTfsJHTm"
      },
      "source": [
        "## Plotting losses and accuracies"
      ]
    },
    {
      "cell_type": "code",
      "metadata": {
        "colab": {
          "base_uri": "https://localhost:8080/",
          "height": 277
        },
        "id": "uioTjgsDEOSS",
        "outputId": "c3aae71b-ad40-4f78-fbd5-ea1f2725c63c"
      },
      "source": [
        "history = pd.DataFrame(history)\r\n",
        "\r\n",
        "plt.subplot(211)\r\n",
        "plt.plot(history.loss, color = 'red', label = 'Loss')\r\n",
        "plt.plot(history.val_loss, color = 'blue', label = 'val_loss')\r\n",
        "plt.legend()\r\n",
        "plt.show()\r\n",
        "\r\n",
        "plt.subplot(212)\r\n",
        "plt.plot(history.accuracy, color = 'red', label = 'Accuracy')\r\n",
        "plt.plot(history.val_accuracy, color = 'blue', label = 'val_acc')\r\n",
        "plt.legend()\r\n",
        "plt.show()"
      ],
      "execution_count": 15,
      "outputs": [
        {
          "output_type": "display_data",
          "data": {
            "image/png": "[encoded data removed]",
            "text/plain": [
              "<Figure size 432x288 with 1 Axes>"
            ]
          },
          "metadata": {
            "tags": [],
            "needs_background": "light"
          }
        },
        {
          "output_type": "display_data",
          "data": {
            "image/png": "[encoded data removed]",
            "text/plain": [
              "<Figure size 432x288 with 1 Axes>"
            ]
          },
          "metadata": {
            "tags": [],
            "needs_background": "light"
          }
        }
      ]
    },
    {
      "cell_type": "markdown",
      "metadata": {
        "id": "7fq3zkP0JOtO"
      },
      "source": [
        "## Function for prediction"
      ]
    },
    {
      "cell_type": "code",
      "metadata": {
        "id": "yASYbUsd-Hp9"
      },
      "source": [
        "def prediction(image):\r\n",
        "  net.eval()\r\n",
        "\r\n",
        "  with torch.no_grad():\r\n",
        "    image = image.to(device)\r\n",
        "    output = net(image)\r\n",
        "    cls = torch.argmax(output)\r\n",
        "  classes = ['airplane', 'automobile', 'bird', 'cat', 'deer', 'dog', 'frog',\r\n",
        "              'horse', 'ship', 'truck']\r\n",
        "  sm = nn.Softmax(dim=1)\r\n",
        "  return classes[cls], sm(output)[0][cls].item(), cls"
      ],
      "execution_count": 18,
      "outputs": []
    },
    {
      "cell_type": "markdown",
      "metadata": {
        "id": "YR79C8Q1JSJ9"
      },
      "source": [
        "## Sample predictions"
      ]
    },
    {
      "cell_type": "code",
      "metadata": {
        "colab": {
          "base_uri": "https://localhost:8080/"
        },
        "id": "7tkKNeLD-f4e",
        "outputId": "b04c40b9-ee78-46df-c6c7-3540203ee92f"
      },
      "source": [
        "sample = next(iter(test))\r\n",
        "image = sample[0][20]\r\n",
        "iimage = torch.unsqueeze(image, 0)\r\n",
        "pred, prob, _ = prediction(iimage)\r\n",
        "print(f'Predicted class: {pred} | Probability: {prob}')"
      ],
      "execution_count": 23,
      "outputs": [
        {
          "output_type": "stream",
          "text": [
            "Predicted class: dog | Probability: 0.9992523789405823\n"
          ],
          "name": "stdout"
        }
      ]
    },
    {
      "cell_type": "code",
      "metadata": {
        "colab": {
          "base_uri": "https://localhost:8080/",
          "height": 283
        },
        "id": "zcKf90-GMnO5",
        "outputId": "6872a30c-c2e8-4ce9-ebdd-b999a6b7703d"
      },
      "source": [
        "plt.imshow(np.asarray(image).transpose(1, 2, 0))"
      ],
      "execution_count": 24,
      "outputs": [
        {
          "output_type": "execute_result",
          "data": {
            "text/plain": [
              "<matplotlib.image.AxesImage at 0x7fcc5054d048>"
            ]
          },
          "metadata": {
            "tags": []
          },
          "execution_count": 24
        },
        {
          "output_type": "display_data",
          "data": {
            "image/png": "[encoded data removed]",
            "text/plain": [
              "<Figure size 432x288 with 1 Axes>"
            ]
          },
          "metadata": {
            "tags": [],
            "needs_background": "light"
          }
        }
      ]
    },
    {
      "cell_type": "code",
      "metadata": {
        "id": "AohMCg2QXUay",
        "colab": {
          "base_uri": "https://localhost:8080/"
        },
        "outputId": "82ced816-a3e0-4d25-eb8f-e8dada244971"
      },
      "source": [
        "sample = next(iter(test))\r\n",
        "image = sample[0][20]\r\n",
        "iimage = torch.unsqueeze(image, 0)\r\n",
        "pred, prob, _ = prediction(iimage)\r\n",
        "print(f'Predicted class: {pred} | Probability: {prob}')"
      ],
      "execution_count": 25,
      "outputs": [
        {
          "output_type": "stream",
          "text": [
            "Predicted class: truck | Probability: 0.9980837106704712\n"
          ],
          "name": "stdout"
        }
      ]
    },
    {
      "cell_type": "code",
      "metadata": {
        "colab": {
          "base_uri": "https://localhost:8080/",
          "height": 283
        },
        "id": "Da6AZusjJW9o",
        "outputId": "000a997b-b2e2-4216-a3bd-e4745228ddbe"
      },
      "source": [
        "plt.imshow(np.asarray(image).transpose(1, 2, 0))"
      ],
      "execution_count": 26,
      "outputs": [
        {
          "output_type": "execute_result",
          "data": {
            "text/plain": [
              "<matplotlib.image.AxesImage at 0x7fcc50468e10>"
            ]
          },
          "metadata": {
            "tags": []
          },
          "execution_count": 26
        },
        {
          "output_type": "display_data",
          "data": {
            "image/png": "[encoded data removed]",
            "text/plain": [
              "<Figure size 432x288 with 1 Axes>"
            ]
          },
          "metadata": {
            "tags": [],
            "needs_background": "light"
          }
        }
      ]
    },
    {
      "cell_type": "code",
      "metadata": {
        "colab": {
          "base_uri": "https://localhost:8080/"
        },
        "id": "Ngp_DzowJbMl",
        "outputId": "ddadfe51-96f5-4eb9-829f-ca1f4265d75d"
      },
      "source": [
        "sample = next(iter(test))\r\n",
        "image = sample[0][20]\r\n",
        "iimage = torch.unsqueeze(image, 0)\r\n",
        "pred, prob, _ = prediction(iimage)\r\n",
        "print(f'Predicted class: {pred} | Probability: {prob}')"
      ],
      "execution_count": 27,
      "outputs": [
        {
          "output_type": "stream",
          "text": [
            "Predicted class: deer | Probability: 0.48400968313217163\n"
          ],
          "name": "stdout"
        }
      ]
    },
    {
      "cell_type": "code",
      "metadata": {
        "colab": {
          "base_uri": "https://localhost:8080/",
          "height": 283
        },
        "id": "Oih1CowbJeoz",
        "outputId": "ee3d23c1-739c-4475-babc-74c140f082ec"
      },
      "source": [
        "plt.imshow(np.asarray(image).transpose(1, 2, 0))"
      ],
      "execution_count": 28,
      "outputs": [
        {
          "output_type": "execute_result",
          "data": {
            "text/plain": [
              "<matplotlib.image.AxesImage at 0x7fcc504c9be0>"
            ]
          },
          "metadata": {
            "tags": []
          },
          "execution_count": 28
        },
        {
          "output_type": "display_data",
          "data": {
            "image/png": "[encoded data removed]",
            "text/plain": [
              "<Figure size 432x288 with 1 Axes>"
            ]
          },
          "metadata": {
            "tags": [],
            "needs_background": "light"
          }
        }
      ]
    },
    {
      "cell_type": "markdown",
      "metadata": {
        "id": "Bzqq37weJ6zv"
      },
      "source": [
        "# Thank you\r\n",
        "### by S.R.Vishal"
      ]
    }
  ]
}