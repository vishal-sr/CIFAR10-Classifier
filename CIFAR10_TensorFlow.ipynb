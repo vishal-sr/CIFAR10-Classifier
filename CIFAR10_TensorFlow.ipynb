{
  "nbformat": 4,
  "nbformat_minor": 0,
  "metadata": {
    "colab": {
      "name": "CIFAR10-TensorFlow.ipynb",
      "provenance": [],
      "collapsed_sections": []
    },
    "kernelspec": {
      "name": "python3",
      "display_name": "Python 3"
    },
    "accelerator": "GPU"
  },
  "cells": [
    {
      "cell_type": "markdown",
      "metadata": {
        "id": "F1iG1Ji9EcVV"
      },
      "source": [
        "# Image classifier for CIFAR10 dataset using TensorFlow."
      ]
    },
    {
      "cell_type": "markdown",
      "metadata": {
        "id": "YZigAtmsEsqV"
      },
      "source": [
        "## Load Dependencies"
      ]
    },
    {
      "cell_type": "code",
      "metadata": {
        "id": "HZyIb_Ut2nO6"
      },
      "source": [
        "import numpy as np\r\n",
        "import pandas as pd\r\n",
        "import matplotlib.pyplot as plt\r\n",
        "import seaborn as sns\r\n",
        "\r\n",
        "from tensorflow.keras.datasets import cifar10\r\n",
        "from tensorflow.keras.utils import to_categorical\r\n",
        "from tensorflow.keras.models import Sequential\r\n",
        "from tensorflow.keras.layers import Dense, Conv2D, MaxPool2D, Flatten\r\n",
        "from tensorflow.keras.layers import Dropout, BatchNormalization\r\n",
        "from tensorflow.keras.callbacks import EarlyStopping\r\n",
        "\r\n",
        "from sklearn.metrics import confusion_matrix, classification_report\r\n",
        "sns.set_style('darkgrid')"
      ],
      "execution_count": 1,
      "outputs": []
    },
    {
      "cell_type": "markdown",
      "metadata": {
        "id": "JDt_z0CjEzKD"
      },
      "source": [
        "## Load and Preprocess data"
      ]
    },
    {
      "cell_type": "code",
      "metadata": {
        "id": "8pFpiTuE9R1e",
        "colab": {
          "base_uri": "https://localhost:8080/"
        },
        "outputId": "72ef22c2-22fe-4a55-d829-2e855af712b3"
      },
      "source": [
        "(X_train, y_train), (X_test, y_test) = cifar10.load_data()\r\n",
        "\r\n",
        "X_train, X_test = X_train / 255.0, X_test / 255.0\r\n",
        "y_train, y_test = to_categorical(y_train), to_categorical(y_test)"
      ],
      "execution_count": 2,
      "outputs": [
        {
          "output_type": "stream",
          "text": [
            "Downloading data from https://www.cs.toronto.edu/~kriz/cifar-10-python.tar.gz\n",
            "170500096/170498071 [==============================] - 3s 0us/step\n"
          ],
          "name": "stdout"
        }
      ]
    },
    {
      "cell_type": "markdown",
      "metadata": {
        "id": "nPsUio9TE5R0"
      },
      "source": [
        "## Build model"
      ]
    },
    {
      "cell_type": "code",
      "metadata": {
        "id": "PY8jGr2C-H5f"
      },
      "source": [
        "Classifier = Sequential()\r\n",
        "\r\n",
        "Classifier.add(Conv2D(filters=32, kernel_size=(3, 3), activation='relu', \r\n",
        "                      kernel_initializer='he_uniform', padding='same', \r\n",
        "                      input_shape = (32, 32, 3)))\r\n",
        "Classifier.add(BatchNormalization())\r\n",
        "\r\n",
        "Classifier.add(Conv2D(filters = 32, kernel_size=(3, 3), activation='relu',\r\n",
        "                     kernel_initializer='he_uniform', padding='same'))\r\n",
        "Classifier.add(BatchNormalization())\r\n",
        "Classifier.add(MaxPool2D(pool_size = (2, 2)))\r\n",
        "Classifier.add(Dropout(0.2))\r\n",
        "\r\n",
        "Classifier.add(Conv2D(filters=64, kernel_size=(3, 3), activation='relu', \r\n",
        "                      kernel_initializer='he_uniform', padding='same'))\r\n",
        "Classifier.add(BatchNormalization())\r\n",
        "\r\n",
        "Classifier.add(Conv2D(filters = 64, kernel_size=(3, 3), activation='relu',\r\n",
        "                     kernel_initializer='he_uniform', padding='same'))\r\n",
        "Classifier.add(BatchNormalization())\r\n",
        "Classifier.add(MaxPool2D(pool_size = (2, 2)))\r\n",
        "Classifier.add(Dropout(0.3))\r\n",
        "\r\n",
        "Classifier.add(Conv2D(filters=128, kernel_size=(3, 3), activation='relu', \r\n",
        "                      kernel_initializer='he_uniform', padding='same'))\r\n",
        "Classifier.add(BatchNormalization())\r\n",
        "\r\n",
        "Classifier.add(Conv2D(filters = 128, kernel_size=(3, 3), activation='relu',\r\n",
        "                     kernel_initializer='he_uniform', padding='same'))\r\n",
        "Classifier.add(BatchNormalization())\r\n",
        "Classifier.add(MaxPool2D(pool_size = (2, 2)))\r\n",
        "Classifier.add(Dropout(0.4))\r\n",
        "\r\n",
        "Classifier.add(Flatten())\r\n",
        "\r\n",
        "Classifier.add(Dense(units = 128, activation='relu'))\r\n",
        "Classifier.add(BatchNormalization())\r\n",
        "Classifier.add(Dropout(0.5))\r\n",
        "\r\n",
        "Classifier.add(Dense(units = 10, activation='softmax'))\r\n",
        "\r\n",
        "Classifier.compile(optimizer='adam', loss = 'categorical_crossentropy', metrics = ['accuracy'])"
      ],
      "execution_count": 3,
      "outputs": []
    },
    {
      "cell_type": "code",
      "metadata": {
        "colab": {
          "base_uri": "https://localhost:8080/"
        },
        "id": "rWQ_oAoZjgDV",
        "outputId": "893f58d1-93d0-40aa-eadc-ee2c25e76edf"
      },
      "source": [
        "Classifier.summary()"
      ],
      "execution_count": 4,
      "outputs": [
        {
          "output_type": "stream",
          "text": [
            "Model: \"sequential\"\n",
            "_________________________________________________________________\n",
            "Layer (type)                 Output Shape              Param #   \n",
            "=================================================================\n",
            "conv2d (Conv2D)              (None, 32, 32, 32)        896       \n",
            "_________________________________________________________________\n",
            "batch_normalization (BatchNo (None, 32, 32, 32)        128       \n",
            "_________________________________________________________________\n",
            "conv2d_1 (Conv2D)            (None, 32, 32, 32)        9248      \n",
            "_________________________________________________________________\n",
            "batch_normalization_1 (Batch (None, 32, 32, 32)        128       \n",
            "_________________________________________________________________\n",
            "max_pooling2d (MaxPooling2D) (None, 16, 16, 32)        0         \n",
            "_________________________________________________________________\n",
            "dropout (Dropout)            (None, 16, 16, 32)        0         \n",
            "_________________________________________________________________\n",
            "conv2d_2 (Conv2D)            (None, 16, 16, 64)        18496     \n",
            "_________________________________________________________________\n",
            "batch_normalization_2 (Batch (None, 16, 16, 64)        256       \n",
            "_________________________________________________________________\n",
            "conv2d_3 (Conv2D)            (None, 16, 16, 64)        36928     \n",
            "_________________________________________________________________\n",
            "batch_normalization_3 (Batch (None, 16, 16, 64)        256       \n",
            "_________________________________________________________________\n",
            "max_pooling2d_1 (MaxPooling2 (None, 8, 8, 64)          0         \n",
            "_________________________________________________________________\n",
            "dropout_1 (Dropout)          (None, 8, 8, 64)          0         \n",
            "_________________________________________________________________\n",
            "conv2d_4 (Conv2D)            (None, 8, 8, 128)         73856     \n",
            "_________________________________________________________________\n",
            "batch_normalization_4 (Batch (None, 8, 8, 128)         512       \n",
            "_________________________________________________________________\n",
            "conv2d_5 (Conv2D)            (None, 8, 8, 128)         147584    \n",
            "_________________________________________________________________\n",
            "batch_normalization_5 (Batch (None, 8, 8, 128)         512       \n",
            "_________________________________________________________________\n",
            "max_pooling2d_2 (MaxPooling2 (None, 4, 4, 128)         0         \n",
            "_________________________________________________________________\n",
            "dropout_2 (Dropout)          (None, 4, 4, 128)         0         \n",
            "_________________________________________________________________\n",
            "flatten (Flatten)            (None, 2048)              0         \n",
            "_________________________________________________________________\n",
            "dense (Dense)                (None, 128)               262272    \n",
            "_________________________________________________________________\n",
            "batch_normalization_6 (Batch (None, 128)               512       \n",
            "_________________________________________________________________\n",
            "dropout_3 (Dropout)          (None, 128)               0         \n",
            "_________________________________________________________________\n",
            "dense_1 (Dense)              (None, 10)                1290      \n",
            "=================================================================\n",
            "Total params: 552,874\n",
            "Trainable params: 551,722\n",
            "Non-trainable params: 1,152\n",
            "_________________________________________________________________\n"
          ],
          "name": "stdout"
        }
      ]
    },
    {
      "cell_type": "markdown",
      "metadata": {
        "id": "JdjZsDUUFBoC"
      },
      "source": [
        "## Training the neural network"
      ]
    },
    {
      "cell_type": "code",
      "metadata": {
        "colab": {
          "base_uri": "https://localhost:8080/"
        },
        "id": "O9Ob0Dr8jjRz",
        "outputId": "22305636-411d-43f9-8ebe-e34204030db9"
      },
      "source": [
        "earlystop = EarlyStopping(monitor='val_loss', mode = 'min', patience=3)\r\n",
        "\r\n",
        "Classifier.fit(x = X_train, y = y_train, epochs = 20, validation_data=(X_test, y_test), callbacks=[earlystop])"
      ],
      "execution_count": 5,
      "outputs": [
        {
          "output_type": "stream",
          "text": [
            "Epoch 1/20\n",
            "1563/1563 [==============================] - 17s 6ms/step - loss: 1.9110 - accuracy: 0.3644 - val_loss: 1.1250 - val_accuracy: 0.5945\n",
            "Epoch 2/20\n",
            "1563/1563 [==============================] - 9s 6ms/step - loss: 1.1067 - accuracy: 0.6116 - val_loss: 0.9925 - val_accuracy: 0.6518\n",
            "Epoch 3/20\n",
            "1563/1563 [==============================] - 9s 6ms/step - loss: 0.9124 - accuracy: 0.6795 - val_loss: 0.8006 - val_accuracy: 0.7240\n",
            "Epoch 4/20\n",
            "1563/1563 [==============================] - 9s 6ms/step - loss: 0.8034 - accuracy: 0.7218 - val_loss: 0.6587 - val_accuracy: 0.7745\n",
            "Epoch 5/20\n",
            "1563/1563 [==============================] - 9s 6ms/step - loss: 0.7085 - accuracy: 0.7547 - val_loss: 0.6074 - val_accuracy: 0.7920\n",
            "Epoch 6/20\n",
            "1563/1563 [==============================] - 9s 6ms/step - loss: 0.6561 - accuracy: 0.7748 - val_loss: 0.6289 - val_accuracy: 0.7829\n",
            "Epoch 7/20\n",
            "1563/1563 [==============================] - 9s 6ms/step - loss: 0.6146 - accuracy: 0.7918 - val_loss: 0.5963 - val_accuracy: 0.7946\n",
            "Epoch 8/20\n",
            "1563/1563 [==============================] - 9s 6ms/step - loss: 0.5689 - accuracy: 0.8042 - val_loss: 0.5354 - val_accuracy: 0.8186\n",
            "Epoch 9/20\n",
            "1563/1563 [==============================] - 9s 6ms/step - loss: 0.5271 - accuracy: 0.8215 - val_loss: 0.5734 - val_accuracy: 0.8057\n",
            "Epoch 10/20\n",
            "1563/1563 [==============================] - 9s 6ms/step - loss: 0.5085 - accuracy: 0.8239 - val_loss: 0.5085 - val_accuracy: 0.8300\n",
            "Epoch 11/20\n",
            "1563/1563 [==============================] - 9s 6ms/step - loss: 0.4863 - accuracy: 0.8351 - val_loss: 0.5157 - val_accuracy: 0.8275\n",
            "Epoch 12/20\n",
            "1563/1563 [==============================] - 9s 6ms/step - loss: 0.4564 - accuracy: 0.8438 - val_loss: 0.5119 - val_accuracy: 0.8290\n",
            "Epoch 13/20\n",
            "1563/1563 [==============================] - 9s 6ms/step - loss: 0.4383 - accuracy: 0.8516 - val_loss: 0.5197 - val_accuracy: 0.8298\n"
          ],
          "name": "stdout"
        },
        {
          "output_type": "execute_result",
          "data": {
            "text/plain": [
              "<tensorflow.python.keras.callbacks.History at 0x7fd860298860>"
            ]
          },
          "metadata": {
            "tags": []
          },
          "execution_count": 5
        }
      ]
    },
    {
      "cell_type": "markdown",
      "metadata": {
        "id": "Kmh4213HFJaT"
      },
      "source": [
        "## Plotting losses and accuracies"
      ]
    },
    {
      "cell_type": "code",
      "metadata": {
        "colab": {
          "base_uri": "https://localhost:8080/",
          "height": 147
        },
        "id": "3TkRLSWkkFhd",
        "outputId": "6b83e434-0cd7-4a43-ed34-96285e249309"
      },
      "source": [
        "history = pd.DataFrame(Classifier.history.history)\r\n",
        "plt.subplot(211)\r\n",
        "plt.plot(history['loss'], color = 'red', label = 'training loss')\r\n",
        "plt.plot(history['val_loss'], color = 'blue', label = 'validation loss')\r\n",
        "plt.legend()\r\n",
        "plt.show()"
      ],
      "execution_count": 6,
      "outputs": [
        {
          "output_type": "display_data",
          "data": {
            "image/png": "[encoded data removed]",
            "text/plain": [
              "<Figure size 432x288 with 1 Axes>"
            ]
          },
          "metadata": {
            "tags": [],
            "needs_background": "light"
          }
        }
      ]
    },
    {
      "cell_type": "code",
      "metadata": {
        "colab": {
          "base_uri": "https://localhost:8080/",
          "height": 147
        },
        "id": "l188fT4fk3gZ",
        "outputId": "d5835efa-9999-4323-d854-f9837670c6e4"
      },
      "source": [
        "plt.subplot(212)\r\n",
        "plt.plot(history['accuracy'], color = 'red', label = 'training accuarcy')\r\n",
        "plt.plot(history['val_accuracy'], color = 'blue', label = 'validation accuracy')\r\n",
        "plt.legend()\r\n",
        "plt.show()"
      ],
      "execution_count": 7,
      "outputs": [
        {
          "output_type": "display_data",
          "data": {
            "image/png": "[encoded data removed]",
            "text/plain": [
              "<Figure size 432x288 with 1 Axes>"
            ]
          },
          "metadata": {
            "tags": [],
            "needs_background": "light"
          }
        }
      ]
    },
    {
      "cell_type": "markdown",
      "metadata": {
        "id": "sHIw-G6DFTNZ"
      },
      "source": [
        "## Model evaluation"
      ]
    },
    {
      "cell_type": "code",
      "metadata": {
        "colab": {
          "base_uri": "https://localhost:8080/"
        },
        "id": "J6FmmD9ml2A6",
        "outputId": "8a9abb03-aa43-467a-980b-597bcd3d70e8"
      },
      "source": [
        "loss, acc = Classifier.evaluate(X_test, y_test)\r\n",
        "print(\"\\n\\nLoss:\", loss, \"\\nAccuracy:\", acc)"
      ],
      "execution_count": 8,
      "outputs": [
        {
          "output_type": "stream",
          "text": [
            "313/313 [==============================] - 1s 3ms/step - loss: 0.5197 - accuracy: 0.8298\n",
            "\n",
            "\n",
            "Loss: 0.5197291374206543 \n",
            "Accuracy: 0.829800009727478\n"
          ],
          "name": "stdout"
        }
      ]
    },
    {
      "cell_type": "code",
      "metadata": {
        "colab": {
          "base_uri": "https://localhost:8080/",
          "height": 813
        },
        "id": "JiQTiLv8mAf3",
        "outputId": "92eb843c-8f09-464a-dbaa-cd4a3c1f1936"
      },
      "source": [
        "y_actual = np.argmax(Classifier.predict(X_test), axis = -1)\r\n",
        "y_pred = [np.argmax(y) for y in y_test]\r\n",
        "\r\n",
        "cm = confusion_matrix(y_actual, y_pred)\r\n",
        "plt.figure(figsize = (10, 8))\r\n",
        "sns.heatmap(cm, cmap = 'RdYlGn', annot = True)\r\n",
        "plt.show()\r\n",
        "\r\n",
        "cr = classification_report(y_actual, y_pred)\r\n",
        "print(\"\\n\\n\",cr)"
      ],
      "execution_count": 9,
      "outputs": [
        {
          "output_type": "display_data",
          "data": {
            "image/png": "[encoded data removed]",
            "text/plain": [
              "<Figure size 720x576 with 2 Axes>"
            ]
          },
          "metadata": {
            "tags": [],
            "needs_background": "light"
          }
        },
        {
          "output_type": "stream",
          "text": [
            "\n",
            "\n",
            "               precision    recall  f1-score   support\n",
            "\n",
            "           0       0.88      0.83      0.85      1063\n",
            "           1       0.93      0.92      0.92      1010\n",
            "           2       0.68      0.84      0.75       802\n",
            "           3       0.53      0.84      0.65       626\n",
            "           4       0.83      0.80      0.81      1029\n",
            "           5       0.79      0.76      0.77      1035\n",
            "           6       0.96      0.71      0.82      1357\n",
            "           7       0.91      0.85      0.88      1064\n",
            "           8       0.87      0.95      0.91       923\n",
            "           9       0.93      0.85      0.89      1091\n",
            "\n",
            "    accuracy                           0.83     10000\n",
            "   macro avg       0.83      0.84      0.83     10000\n",
            "weighted avg       0.85      0.83      0.83     10000\n",
            "\n"
          ],
          "name": "stdout"
        }
      ]
    },
    {
      "cell_type": "markdown",
      "metadata": {
        "id": "FzinLB8q41xi"
      },
      "source": [
        "## Sample classification\r\n"
      ]
    },
    {
      "cell_type": "code",
      "metadata": {
        "id": "xZZCutcd7ciQ"
      },
      "source": [
        "def prediction(image):\r\n",
        "  image = np.expand_dims(image, axis=0)\r\n",
        "  output = Classifier.predict(image)\r\n",
        "  cls = np.argmax(output)\r\n",
        "  classes = ['airplane', 'automobile', 'bird', 'cat', 'deer', 'dog', 'frog',\r\n",
        "              'horse', 'ship', 'truck']\r\n",
        "  return classes[cls], f'{output[0][cls]:.4f}%'"
      ],
      "execution_count": 10,
      "outputs": []
    },
    {
      "cell_type": "code",
      "metadata": {
        "colab": {
          "base_uri": "https://localhost:8080/",
          "height": 283
        },
        "id": "0gzexMe764FF",
        "outputId": "0bc96bd7-0dc2-40a0-8fe1-19f810942416"
      },
      "source": [
        "plt.imshow(X_test[1])"
      ],
      "execution_count": 11,
      "outputs": [
        {
          "output_type": "execute_result",
          "data": {
            "text/plain": [
              "<matplotlib.image.AxesImage at 0x7fd7e1fd3c50>"
            ]
          },
          "metadata": {
            "tags": []
          },
          "execution_count": 11
        },
        {
          "output_type": "display_data",
          "data": {
            "image/png": "[encoded data removed]",
            "text/plain": [
              "<Figure size 432x288 with 1 Axes>"
            ]
          },
          "metadata": {
            "tags": [],
            "needs_background": "light"
          }
        }
      ]
    },
    {
      "cell_type": "code",
      "metadata": {
        "colab": {
          "base_uri": "https://localhost:8080/"
        },
        "id": "vNhckVbd7PiO",
        "outputId": "1119b31c-823d-4e0e-a33d-929fea053684"
      },
      "source": [
        "prediction(X_test[1])"
      ],
      "execution_count": 12,
      "outputs": [
        {
          "output_type": "execute_result",
          "data": {
            "text/plain": [
              "('ship', '0.9827%')"
            ]
          },
          "metadata": {
            "tags": []
          },
          "execution_count": 12
        }
      ]
    },
    {
      "cell_type": "code",
      "metadata": {
        "colab": {
          "base_uri": "https://localhost:8080/",
          "height": 283
        },
        "id": "0Cq9mg9kKPK1",
        "outputId": "0f483eb6-9582-447c-d299-45547068147d"
      },
      "source": [
        "plt.imshow(X_test[20])"
      ],
      "execution_count": 18,
      "outputs": [
        {
          "output_type": "execute_result",
          "data": {
            "text/plain": [
              "<matplotlib.image.AxesImage at 0x7fd7e16b2b70>"
            ]
          },
          "metadata": {
            "tags": []
          },
          "execution_count": 18
        },
        {
          "output_type": "display_data",
          "data": {
            "image/png": "[encoded data removed]",
            "text/plain": [
              "<Figure size 432x288 with 1 Axes>"
            ]
          },
          "metadata": {
            "tags": [],
            "needs_background": "light"
          }
        }
      ]
    },
    {
      "cell_type": "code",
      "metadata": {
        "colab": {
          "base_uri": "https://localhost:8080/"
        },
        "id": "cu3e4e6TKQQ9",
        "outputId": "6779dc65-c1c9-4b59-e2c7-d1622fbeead9"
      },
      "source": [
        "prediction(X_test[20])"
      ],
      "execution_count": 17,
      "outputs": [
        {
          "output_type": "execute_result",
          "data": {
            "text/plain": [
              "('horse', '0.9975%')"
            ]
          },
          "metadata": {
            "tags": []
          },
          "execution_count": 17
        }
      ]
    },
    {
      "cell_type": "code",
      "metadata": {
        "colab": {
          "base_uri": "https://localhost:8080/",
          "height": 283
        },
        "id": "9fXulz2qKYhJ",
        "outputId": "76d29a7a-6569-405e-ada9-d71cace29014"
      },
      "source": [
        "plt.imshow(X_test[50])"
      ],
      "execution_count": 19,
      "outputs": [
        {
          "output_type": "execute_result",
          "data": {
            "text/plain": [
              "<matplotlib.image.AxesImage at 0x7fd7e16f5be0>"
            ]
          },
          "metadata": {
            "tags": []
          },
          "execution_count": 19
        },
        {
          "output_type": "display_data",
          "data": {
            "image/png": "[encoded data removed]",
            "text/plain": [
              "<Figure size 432x288 with 1 Axes>"
            ]
          },
          "metadata": {
            "tags": [],
            "needs_background": "light"
          }
        }
      ]
    },
    {
      "cell_type": "code",
      "metadata": {
        "colab": {
          "base_uri": "https://localhost:8080/"
        },
        "id": "wLISMKcmKYJJ",
        "outputId": "e03a89f8-25d3-45e3-9378-c81bf19329ae"
      },
      "source": [
        "prediction(X_test[50])"
      ],
      "execution_count": 20,
      "outputs": [
        {
          "output_type": "execute_result",
          "data": {
            "text/plain": [
              "('truck', '0.9991%')"
            ]
          },
          "metadata": {
            "tags": []
          },
          "execution_count": 20
        }
      ]
    },
    {
      "cell_type": "markdown",
      "metadata": {
        "id": "_MCEALBfFYI-"
      },
      "source": [
        "# Thank You\r\n",
        "### by S.R.Vishal"
      ]
    }
  ]
}